{
 "cells": [
  {
   "cell_type": "code",
   "execution_count": 4,
   "metadata": {},
   "outputs": [],
   "source": [
    "import os\n",
    "path='./'\n",
    "for roots,dirs,files in os.walk(path):\n",
    "    for file in files:\n",
    "        if 'LAPTOP-8KCEN3' in file:\n",
    "            name=os.path.join(roots,file)\n",
    "            print(name)\n",
    "            os.remove(name)"
   ]
  }
 ],
 "metadata": {
  "kernelspec": {
   "display_name": "Python 3",
   "language": "python",
   "name": "python3"
  },
  "language_info": {
   "codemirror_mode": {
    "name": "ipython",
    "version": 3
   },
   "file_extension": ".py",
   "mimetype": "text/x-python",
   "name": "python",
   "nbconvert_exporter": "python",
   "pygments_lexer": "ipython3",
   "version": "3.9.12"
  },
  "orig_nbformat": 4,
  "vscode": {
   "interpreter": {
    "hash": "9646087c80b76361d8373b8315f8c86af74291ff0dcd3cfae67d2e5d4aeddc8e"
   }
  }
 },
 "nbformat": 4,
 "nbformat_minor": 2
}
